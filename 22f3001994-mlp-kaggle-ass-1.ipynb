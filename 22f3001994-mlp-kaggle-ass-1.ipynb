{
 "cells": [
  {
   "cell_type": "markdown",
   "id": "631b43e0",
   "metadata": {
    "papermill": {
     "duration": 0.008493,
     "end_time": "2025-10-23T01:27:01.332209",
     "exception": false,
     "start_time": "2025-10-23T01:27:01.323716",
     "status": "completed"
    },
    "tags": []
   },
   "source": [
    "# House Price Prediction Notebook\n",
    "\n",
    "This notebook predicts house prices using multiple regression models. We\n",
    "preprocess the data, handle missing values, scale features, encode categorical\n",
    "variables, and train several models including Ridge, LightGBM, and CatBoost.\n",
    "Finally, we use a weighted ensemble to produce predictions."
   ]
  },
  {
   "cell_type": "markdown",
   "id": "d56bd427",
   "metadata": {
    "papermill": {
     "duration": 0.007804,
     "end_time": "2025-10-23T01:27:01.347149",
     "exception": false,
     "start_time": "2025-10-23T01:27:01.339345",
     "status": "completed"
    },
    "tags": []
   },
   "source": [
    "# 📦 Step 1 — Import Libraries"
   ]
  },
  {
   "cell_type": "code",
   "execution_count": 1,
   "id": "fc4e2f1e",
   "metadata": {
    "_cell_guid": "b1076dfc-b9ad-4769-8c92-a6c4dae69d19",
    "_uuid": "8f2839f25d086af736a60e9eeb907d3b93b6e0e5",
    "execution": {
     "iopub.execute_input": "2025-10-23T01:27:01.366500Z",
     "iopub.status.busy": "2025-10-23T01:27:01.366153Z",
     "iopub.status.idle": "2025-10-23T01:27:14.498879Z",
     "shell.execute_reply": "2025-10-23T01:27:14.497479Z"
    },
    "papermill": {
     "duration": 13.14585,
     "end_time": "2025-10-23T01:27:14.501189",
     "exception": false,
     "start_time": "2025-10-23T01:27:01.355339",
     "status": "completed"
    },
    "tags": []
   },
   "outputs": [],
   "source": [
    "\n",
    "import pandas as pd\n",
    "import numpy as np\n",
    "from sklearn.model_selection import train_test_split\n",
    "from sklearn.preprocessing import StandardScaler\n",
    "from sklearn.impute import SimpleImputer\n",
    "from sklearn.linear_model import Ridge\n",
    "from sklearn.metrics import mean_squared_error\n",
    "import matplotlib.pyplot as plt\n",
    "import warnings\n",
    "warnings.filterwarnings(\"ignore\")\n",
    "\n",
    "# LightGBM & CatBoost\n",
    "import lightgbm as lgb\n",
    "from catboost import CatBoostRegressor\n"
   ]
  },
  {
   "cell_type": "markdown",
   "id": "514486f4",
   "metadata": {
    "papermill": {
     "duration": 0.006501,
     "end_time": "2025-10-23T01:27:14.516522",
     "exception": false,
     "start_time": "2025-10-23T01:27:14.510021",
     "status": "completed"
    },
    "tags": []
   },
   "source": [
    "# 📁 Step 2 — Load Data"
   ]
  },
  {
   "cell_type": "code",
   "execution_count": 2,
   "id": "ba3484f6",
   "metadata": {
    "execution": {
     "iopub.execute_input": "2025-10-23T01:27:14.533984Z",
     "iopub.status.busy": "2025-10-23T01:27:14.533343Z",
     "iopub.status.idle": "2025-10-23T01:27:14.630904Z",
     "shell.execute_reply": "2025-10-23T01:27:14.629045Z"
    },
    "papermill": {
     "duration": 0.108287,
     "end_time": "2025-10-23T01:27:14.633148",
     "exception": false,
     "start_time": "2025-10-23T01:27:14.524861",
     "status": "completed"
    },
    "tags": []
   },
   "outputs": [
    {
     "name": "stdout",
     "output_type": "stream",
     "text": [
      "Train shape: (10000, 9)\n",
      "Test shape: (3320, 8)\n"
     ]
    },
    {
     "data": {
      "text/html": [
       "<div>\n",
       "<style scoped>\n",
       "    .dataframe tbody tr th:only-of-type {\n",
       "        vertical-align: middle;\n",
       "    }\n",
       "\n",
       "    .dataframe tbody tr th {\n",
       "        vertical-align: top;\n",
       "    }\n",
       "\n",
       "    .dataframe thead th {\n",
       "        text-align: right;\n",
       "    }\n",
       "</style>\n",
       "<table border=\"1\" class=\"dataframe\">\n",
       "  <thead>\n",
       "    <tr style=\"text-align: right;\">\n",
       "      <th></th>\n",
       "      <th>id</th>\n",
       "      <th>area_type</th>\n",
       "      <th>availability</th>\n",
       "      <th>location</th>\n",
       "      <th>size</th>\n",
       "      <th>total_sqft</th>\n",
       "      <th>bath</th>\n",
       "      <th>balcony</th>\n",
       "      <th>price</th>\n",
       "    </tr>\n",
       "  </thead>\n",
       "  <tbody>\n",
       "    <tr>\n",
       "      <th>0</th>\n",
       "      <td>0</td>\n",
       "      <td>type_I</td>\n",
       "      <td>Ready To Move</td>\n",
       "      <td>Banashankari 2 nd Stage</td>\n",
       "      <td>3 BHK</td>\n",
       "      <td>1030.0</td>\n",
       "      <td>2.0</td>\n",
       "      <td>2.0</td>\n",
       "      <td>77.25</td>\n",
       "    </tr>\n",
       "    <tr>\n",
       "      <th>1</th>\n",
       "      <td>1</td>\n",
       "      <td>type_I</td>\n",
       "      <td>Ready To Move</td>\n",
       "      <td>Balagere</td>\n",
       "      <td>2 BHK</td>\n",
       "      <td>1210.0</td>\n",
       "      <td>2.0</td>\n",
       "      <td>1.0</td>\n",
       "      <td>83.00</td>\n",
       "    </tr>\n",
       "    <tr>\n",
       "      <th>2</th>\n",
       "      <td>2</td>\n",
       "      <td>type_I</td>\n",
       "      <td>17-Oct</td>\n",
       "      <td>Banashankari Stage V</td>\n",
       "      <td>3 BHK</td>\n",
       "      <td>1540.0</td>\n",
       "      <td>3.0</td>\n",
       "      <td>2.0</td>\n",
       "      <td>48.51</td>\n",
       "    </tr>\n",
       "    <tr>\n",
       "      <th>3</th>\n",
       "      <td>3</td>\n",
       "      <td>type_I</td>\n",
       "      <td>Ready To Move</td>\n",
       "      <td>Thigalarapalya</td>\n",
       "      <td>3 BHK</td>\n",
       "      <td>1830.0</td>\n",
       "      <td>4.0</td>\n",
       "      <td>2.0</td>\n",
       "      <td>135.00</td>\n",
       "    </tr>\n",
       "    <tr>\n",
       "      <th>4</th>\n",
       "      <td>4</td>\n",
       "      <td>type_III</td>\n",
       "      <td>Ready To Move</td>\n",
       "      <td>arudi</td>\n",
       "      <td>3 Bedroom</td>\n",
       "      <td>NaN</td>\n",
       "      <td>2.0</td>\n",
       "      <td>0.0</td>\n",
       "      <td>80.00</td>\n",
       "    </tr>\n",
       "  </tbody>\n",
       "</table>\n",
       "</div>"
      ],
      "text/plain": [
       "   id area_type   availability                 location       size  \\\n",
       "0   0    type_I  Ready To Move  Banashankari 2 nd Stage      3 BHK   \n",
       "1   1    type_I  Ready To Move                 Balagere      2 BHK   \n",
       "2   2    type_I         17-Oct     Banashankari Stage V      3 BHK   \n",
       "3   3    type_I  Ready To Move           Thigalarapalya      3 BHK   \n",
       "4   4  type_III  Ready To Move                    arudi  3 Bedroom   \n",
       "\n",
       "   total_sqft  bath  balcony   price  \n",
       "0      1030.0   2.0      2.0   77.25  \n",
       "1      1210.0   2.0      1.0   83.00  \n",
       "2      1540.0   3.0      2.0   48.51  \n",
       "3      1830.0   4.0      2.0  135.00  \n",
       "4         NaN   2.0      0.0   80.00  "
      ]
     },
     "execution_count": 2,
     "metadata": {},
     "output_type": "execute_result"
    }
   ],
   "source": [
    "train = pd.read_csv(\"/kaggle/input/mlp-term-3-2025-kaggle-assignment-1/train.csv\")\n",
    "test = pd.read_csv(\"/kaggle/input/mlp-term-3-2025-kaggle-assignment-1/test.csv\")\n",
    "sample = pd.read_csv(\"/kaggle/input/mlp-term-3-2025-kaggle-assignment-1/sample_submission.csv\")\n",
    "\n",
    "print(\"Train shape:\", train.shape)\n",
    "print(\"Test shape:\", test.shape)\n",
    "train.head()\n"
   ]
  },
  {
   "cell_type": "markdown",
   "id": "5bd864d1",
   "metadata": {
    "papermill": {
     "duration": 0.007357,
     "end_time": "2025-10-23T01:27:14.648398",
     "exception": false,
     "start_time": "2025-10-23T01:27:14.641041",
     "status": "completed"
    },
    "tags": []
   },
   "source": [
    "## Dataset Overview\n",
    "\n",
    "We first check the structure of the dataset and the data types of each column. This\n",
    "helps us identify numerical and categorical features and understand the general\n",
    "distribution of values."
   ]
  },
  {
   "cell_type": "code",
   "execution_count": 3,
   "id": "cbb60bb8",
   "metadata": {
    "execution": {
     "iopub.execute_input": "2025-10-23T01:27:14.667240Z",
     "iopub.status.busy": "2025-10-23T01:27:14.666505Z",
     "iopub.status.idle": "2025-10-23T01:27:14.726109Z",
     "shell.execute_reply": "2025-10-23T01:27:14.724829Z"
    },
    "papermill": {
     "duration": 0.071247,
     "end_time": "2025-10-23T01:27:14.728234",
     "exception": false,
     "start_time": "2025-10-23T01:27:14.656987",
     "status": "completed"
    },
    "tags": []
   },
   "outputs": [
    {
     "name": "stdout",
     "output_type": "stream",
     "text": [
      "<class 'pandas.core.frame.DataFrame'>\n",
      "RangeIndex: 10000 entries, 0 to 9999\n",
      "Data columns (total 9 columns):\n",
      " #   Column        Non-Null Count  Dtype  \n",
      "---  ------        --------------  -----  \n",
      " 0   id            10000 non-null  int64  \n",
      " 1   area_type     10000 non-null  object \n",
      " 2   availability  10000 non-null  object \n",
      " 3   location      9999 non-null   object \n",
      " 4   size          9987 non-null   object \n",
      " 5   total_sqft    9967 non-null   float64\n",
      " 6   bath          9936 non-null   float64\n",
      " 7   balcony       9525 non-null   float64\n",
      " 8   price         10000 non-null  float64\n",
      "dtypes: float64(4), int64(1), object(4)\n",
      "memory usage: 703.3+ KB\n"
     ]
    },
    {
     "data": {
      "text/html": [
       "<div>\n",
       "<style scoped>\n",
       "    .dataframe tbody tr th:only-of-type {\n",
       "        vertical-align: middle;\n",
       "    }\n",
       "\n",
       "    .dataframe tbody tr th {\n",
       "        vertical-align: top;\n",
       "    }\n",
       "\n",
       "    .dataframe thead th {\n",
       "        text-align: right;\n",
       "    }\n",
       "</style>\n",
       "<table border=\"1\" class=\"dataframe\">\n",
       "  <thead>\n",
       "    <tr style=\"text-align: right;\">\n",
       "      <th></th>\n",
       "      <th>id</th>\n",
       "      <th>total_sqft</th>\n",
       "      <th>bath</th>\n",
       "      <th>balcony</th>\n",
       "      <th>price</th>\n",
       "    </tr>\n",
       "  </thead>\n",
       "  <tbody>\n",
       "    <tr>\n",
       "      <th>count</th>\n",
       "      <td>10000.00000</td>\n",
       "      <td>9967.000000</td>\n",
       "      <td>9936.000000</td>\n",
       "      <td>9525.000000</td>\n",
       "      <td>10000.000000</td>\n",
       "    </tr>\n",
       "    <tr>\n",
       "      <th>mean</th>\n",
       "      <td>4999.50000</td>\n",
       "      <td>1570.095822</td>\n",
       "      <td>2.692029</td>\n",
       "      <td>1.585302</td>\n",
       "      <td>113.275879</td>\n",
       "    </tr>\n",
       "    <tr>\n",
       "      <th>std</th>\n",
       "      <td>2886.89568</td>\n",
       "      <td>1302.566836</td>\n",
       "      <td>1.274172</td>\n",
       "      <td>0.814347</td>\n",
       "      <td>151.802643</td>\n",
       "    </tr>\n",
       "    <tr>\n",
       "      <th>min</th>\n",
       "      <td>0.00000</td>\n",
       "      <td>1.000000</td>\n",
       "      <td>1.000000</td>\n",
       "      <td>0.000000</td>\n",
       "      <td>8.000000</td>\n",
       "    </tr>\n",
       "    <tr>\n",
       "      <th>25%</th>\n",
       "      <td>2499.75000</td>\n",
       "      <td>1100.000000</td>\n",
       "      <td>2.000000</td>\n",
       "      <td>1.000000</td>\n",
       "      <td>50.000000</td>\n",
       "    </tr>\n",
       "    <tr>\n",
       "      <th>50%</th>\n",
       "      <td>4999.50000</td>\n",
       "      <td>1279.000000</td>\n",
       "      <td>2.000000</td>\n",
       "      <td>2.000000</td>\n",
       "      <td>72.000000</td>\n",
       "    </tr>\n",
       "    <tr>\n",
       "      <th>75%</th>\n",
       "      <td>7499.25000</td>\n",
       "      <td>1682.500000</td>\n",
       "      <td>3.000000</td>\n",
       "      <td>2.000000</td>\n",
       "      <td>120.000000</td>\n",
       "    </tr>\n",
       "    <tr>\n",
       "      <th>max</th>\n",
       "      <td>9999.00000</td>\n",
       "      <td>52272.000000</td>\n",
       "      <td>18.000000</td>\n",
       "      <td>3.000000</td>\n",
       "      <td>3600.000000</td>\n",
       "    </tr>\n",
       "  </tbody>\n",
       "</table>\n",
       "</div>"
      ],
      "text/plain": [
       "                id    total_sqft         bath      balcony         price\n",
       "count  10000.00000   9967.000000  9936.000000  9525.000000  10000.000000\n",
       "mean    4999.50000   1570.095822     2.692029     1.585302    113.275879\n",
       "std     2886.89568   1302.566836     1.274172     0.814347    151.802643\n",
       "min        0.00000      1.000000     1.000000     0.000000      8.000000\n",
       "25%     2499.75000   1100.000000     2.000000     1.000000     50.000000\n",
       "50%     4999.50000   1279.000000     2.000000     2.000000     72.000000\n",
       "75%     7499.25000   1682.500000     3.000000     2.000000    120.000000\n",
       "max     9999.00000  52272.000000    18.000000     3.000000   3600.000000"
      ]
     },
     "execution_count": 3,
     "metadata": {},
     "output_type": "execute_result"
    }
   ],
   "source": [
    "# Check data types\n",
    "train.info()\n",
    "# Descriptive statistics of numerical columns\n",
    "train.describe()"
   ]
  },
  {
   "cell_type": "markdown",
   "id": "56f4a9e8",
   "metadata": {
    "papermill": {
     "duration": 0.007622,
     "end_time": "2025-10-23T01:27:14.744363",
     "exception": false,
     "start_time": "2025-10-23T01:27:14.736741",
     "status": "completed"
    },
    "tags": []
   },
   "source": [
    "# 🧹 Step 3 — Drop ID if exists"
   ]
  },
  {
   "cell_type": "markdown",
   "id": "4bb7c3c3",
   "metadata": {
    "papermill": {
     "duration": 0.007305,
     "end_time": "2025-10-23T01:27:14.758997",
     "exception": false,
     "start_time": "2025-10-23T01:27:14.751692",
     "status": "completed"
    },
    "tags": []
   },
   "source": [
    "## Handling Missing Values\n",
    "We identify missing values in the dataset. Missing numerical values are imputed\n",
    "with the mean to ensure models receive complete data."
   ]
  },
  {
   "cell_type": "code",
   "execution_count": 4,
   "id": "89692974",
   "metadata": {
    "execution": {
     "iopub.execute_input": "2025-10-23T01:27:14.776162Z",
     "iopub.status.busy": "2025-10-23T01:27:14.775433Z",
     "iopub.status.idle": "2025-10-23T01:27:14.788433Z",
     "shell.execute_reply": "2025-10-23T01:27:14.786922Z"
    },
    "papermill": {
     "duration": 0.02344,
     "end_time": "2025-10-23T01:27:14.790202",
     "exception": false,
     "start_time": "2025-10-23T01:27:14.766762",
     "status": "completed"
    },
    "tags": []
   },
   "outputs": [],
   "source": [
    "if 'id' in train.columns:\n",
    "    train.drop('id', axis=1, inplace=True)\n",
    "if 'id' in test.columns:\n",
    "    test.drop('id', axis=1, inplace=True)"
   ]
  },
  {
   "cell_type": "markdown",
   "id": "0615dda1",
   "metadata": {
    "papermill": {
     "duration": 0.007259,
     "end_time": "2025-10-23T01:27:14.805110",
     "exception": false,
     "start_time": "2025-10-23T01:27:14.797851",
     "status": "completed"
    },
    "tags": []
   },
   "source": [
    "# 🔧 Step 4 — Feature Engineering"
   ]
  },
  {
   "cell_type": "code",
   "execution_count": 5,
   "id": "0a9d17c7",
   "metadata": {
    "execution": {
     "iopub.execute_input": "2025-10-23T01:27:14.823813Z",
     "iopub.status.busy": "2025-10-23T01:27:14.822773Z",
     "iopub.status.idle": "2025-10-23T01:27:14.829947Z",
     "shell.execute_reply": "2025-10-23T01:27:14.828549Z"
    },
    "papermill": {
     "duration": 0.018746,
     "end_time": "2025-10-23T01:27:14.832272",
     "exception": false,
     "start_time": "2025-10-23T01:27:14.813526",
     "status": "completed"
    },
    "tags": []
   },
   "outputs": [],
   "source": [
    "if 'sqft_living' in train.columns and 'sqft_lot' in train.columns:\n",
    "    train['total_area'] = train['sqft_living'] + train['sqft_lot']\n",
    "    test['total_area'] = test['sqft_living'] + test['sqft_lot']\n",
    "\n",
    "if 'year_built' in train.columns:\n",
    "    train['age'] = 2025 - train['year_built']\n",
    "    test['age'] = 2025 - test['year_built']\n"
   ]
  },
  {
   "cell_type": "markdown",
   "id": "b9724d4c",
   "metadata": {
    "papermill": {
     "duration": 0.007526,
     "end_time": "2025-10-23T01:27:14.847242",
     "exception": false,
     "start_time": "2025-10-23T01:27:14.839716",
     "status": "completed"
    },
    "tags": []
   },
   "source": [
    "# 🎯 Step 5 — Separate Features and Target"
   ]
  },
  {
   "cell_type": "code",
   "execution_count": 6,
   "id": "f884e737",
   "metadata": {
    "execution": {
     "iopub.execute_input": "2025-10-23T01:27:14.864115Z",
     "iopub.status.busy": "2025-10-23T01:27:14.863762Z",
     "iopub.status.idle": "2025-10-23T01:27:14.887779Z",
     "shell.execute_reply": "2025-10-23T01:27:14.886522Z"
    },
    "papermill": {
     "duration": 0.035108,
     "end_time": "2025-10-23T01:27:14.889794",
     "exception": false,
     "start_time": "2025-10-23T01:27:14.854686",
     "status": "completed"
    },
    "tags": []
   },
   "outputs": [],
   "source": [
    "\n",
    "y = train['price']\n",
    "X = train.drop('price', axis=1)\n",
    "\n",
    "# Log-transform target for better regression\n",
    "y_log = np.log1p(y)\n"
   ]
  },
  {
   "cell_type": "markdown",
   "id": "830a0bd4",
   "metadata": {
    "papermill": {
     "duration": 0.007873,
     "end_time": "2025-10-23T01:27:14.905445",
     "exception": false,
     "start_time": "2025-10-23T01:27:14.897572",
     "status": "completed"
    },
    "tags": []
   },
   "source": [
    "# ⚡ Step 6 — One-hot Encoding"
   ]
  },
  {
   "cell_type": "markdown",
   "id": "0eca6783",
   "metadata": {
    "papermill": {
     "duration": 0.008107,
     "end_time": "2025-10-23T01:27:14.922091",
     "exception": false,
     "start_time": "2025-10-23T01:27:14.913984",
     "status": "completed"
    },
    "tags": []
   },
   "source": [
    "## Handling Categorical Variables\n",
    "\n",
    "Categorical features are converted into numeric features using one-hot encoding\n",
    "so that models can interpret them."
   ]
  },
  {
   "cell_type": "code",
   "execution_count": 7,
   "id": "19d5f55e",
   "metadata": {
    "execution": {
     "iopub.execute_input": "2025-10-23T01:27:14.940059Z",
     "iopub.status.busy": "2025-10-23T01:27:14.939692Z",
     "iopub.status.idle": "2025-10-23T01:27:14.992735Z",
     "shell.execute_reply": "2025-10-23T01:27:14.991588Z"
    },
    "papermill": {
     "duration": 0.064825,
     "end_time": "2025-10-23T01:27:14.994819",
     "exception": false,
     "start_time": "2025-10-23T01:27:14.929994",
     "status": "completed"
    },
    "tags": []
   },
   "outputs": [],
   "source": [
    "categorical = X.select_dtypes(include='object').columns\n",
    "X = pd.get_dummies(X, drop_first=True)\n",
    "test = pd.get_dummies(test, drop_first=True)\n",
    "\n",
    "# Align test columns with train\n",
    "test = test.reindex(columns=X.columns, fill_value=0)\n"
   ]
  },
  {
   "cell_type": "markdown",
   "id": "4180f824",
   "metadata": {
    "papermill": {
     "duration": 0.006924,
     "end_time": "2025-10-23T01:27:15.009302",
     "exception": false,
     "start_time": "2025-10-23T01:27:15.002378",
     "status": "completed"
    },
    "tags": []
   },
   "source": [
    "# ⚖ Step 7 — Handle Skewed Features"
   ]
  },
  {
   "cell_type": "markdown",
   "id": "bf290f1c",
   "metadata": {
    "papermill": {
     "duration": 0.007981,
     "end_time": "2025-10-23T01:27:15.025748",
     "exception": false,
     "start_time": "2025-10-23T01:27:15.017767",
     "status": "completed"
    },
    "tags": []
   },
   "source": [
    "## Handling Skewed Features\n",
    "Skewed numerical features can affect model performance. We apply log-transform\n",
    "to reduce skewness and mitigate the impact of outliers."
   ]
  },
  {
   "cell_type": "code",
   "execution_count": 8,
   "id": "6c04426f",
   "metadata": {
    "execution": {
     "iopub.execute_input": "2025-10-23T01:27:15.043604Z",
     "iopub.status.busy": "2025-10-23T01:27:15.043275Z",
     "iopub.status.idle": "2025-10-23T01:27:15.072114Z",
     "shell.execute_reply": "2025-10-23T01:27:15.070585Z"
    },
    "papermill": {
     "duration": 0.040316,
     "end_time": "2025-10-23T01:27:15.074432",
     "exception": false,
     "start_time": "2025-10-23T01:27:15.034116",
     "status": "completed"
    },
    "tags": []
   },
   "outputs": [],
   "source": [
    "from scipy.stats import skew\n",
    "\n",
    "numeric_feats = X.select_dtypes(include=[np.number])\n",
    "skewed_feats = numeric_feats.apply(lambda x: skew(x.dropna())).sort_values(ascending=False)\n",
    "skewed_cols = skewed_feats[abs(skewed_feats) > 0.75].index\n",
    "\n",
    "for col in skewed_cols:\n",
    "    X[col] = np.log1p(X[col])\n",
    "    test[col] = np.log1p(test[col])\n"
   ]
  },
  {
   "cell_type": "markdown",
   "id": "ddd30c64",
   "metadata": {
    "papermill": {
     "duration": 0.009257,
     "end_time": "2025-10-23T01:27:15.092634",
     "exception": false,
     "start_time": "2025-10-23T01:27:15.083377",
     "status": "completed"
    },
    "tags": []
   },
   "source": [
    "# ⚖ Step 8 — Scale & Handle Missing Values"
   ]
  },
  {
   "cell_type": "markdown",
   "id": "7b79bbdb",
   "metadata": {
    "papermill": {
     "duration": 0.007843,
     "end_time": "2025-10-23T01:27:15.108788",
     "exception": false,
     "start_time": "2025-10-23T01:27:15.100945",
     "status": "completed"
    },
    "tags": []
   },
   "source": [
    "## Scaling Numerical Features\n",
    "\n",
    "We standardize numerical features using StandardScaler. This is important for\n",
    "models sensitive to feature magnitude such as Ridge regression."
   ]
  },
  {
   "cell_type": "code",
   "execution_count": 9,
   "id": "1c46757d",
   "metadata": {
    "execution": {
     "iopub.execute_input": "2025-10-23T01:27:15.128734Z",
     "iopub.status.busy": "2025-10-23T01:27:15.128370Z",
     "iopub.status.idle": "2025-10-23T01:27:16.857670Z",
     "shell.execute_reply": "2025-10-23T01:27:16.856307Z"
    },
    "papermill": {
     "duration": 1.742042,
     "end_time": "2025-10-23T01:27:16.860167",
     "exception": false,
     "start_time": "2025-10-23T01:27:15.118125",
     "status": "completed"
    },
    "tags": []
   },
   "outputs": [
    {
     "name": "stdout",
     "output_type": "stream",
     "text": [
      "✅ Preprocessing done!\n"
     ]
    }
   ],
   "source": [
    "scaler = StandardScaler()\n",
    "X_scaled = scaler.fit_transform(X)\n",
    "test_scaled = scaler.transform(test)\n",
    "\n",
    "imputer = SimpleImputer(strategy='mean')\n",
    "X_imputed = imputer.fit_transform(X_scaled)\n",
    "test_imputed = imputer.transform(test_scaled)\n",
    "\n",
    "print(\"✅ Preprocessing done!\")\n"
   ]
  },
  {
   "cell_type": "markdown",
   "id": "99537eff",
   "metadata": {
    "papermill": {
     "duration": 0.007097,
     "end_time": "2025-10-23T01:27:16.875548",
     "exception": false,
     "start_time": "2025-10-23T01:27:16.868451",
     "status": "completed"
    },
    "tags": []
   },
   "source": [
    "# Lets Visualize ( Before Continuing )"
   ]
  },
  {
   "cell_type": "markdown",
   "id": "f2be7cda",
   "metadata": {
    "papermill": {
     "duration": 0.006923,
     "end_time": "2025-10-23T01:27:16.889785",
     "exception": false,
     "start_time": "2025-10-23T01:27:16.882862",
     "status": "completed"
    },
    "tags": []
   },
   "source": [
    "We visualize the dataset to understand distributions and relationships with the\n",
    "target variable."
   ]
  },
  {
   "cell_type": "code",
   "execution_count": 10,
   "id": "ea4fc52f",
   "metadata": {
    "execution": {
     "iopub.execute_input": "2025-10-23T01:27:16.906561Z",
     "iopub.status.busy": "2025-10-23T01:27:16.906228Z",
     "iopub.status.idle": "2025-10-23T01:27:18.417268Z",
     "shell.execute_reply": "2025-10-23T01:27:18.416030Z"
    },
    "papermill": {
     "duration": 1.521942,
     "end_time": "2025-10-23T01:27:18.419268",
     "exception": false,
     "start_time": "2025-10-23T01:27:16.897326",
     "status": "completed"
    },
    "tags": []
   },
   "outputs": [
    {
     "data": {
      "image/png": "[encoded data removed]",
      "text/plain": [
       "<Figure size 600x400 with 1 Axes>"
      ]
     },
     "metadata": {},
     "output_type": "display_data"
    },
    {
     "data": {
      "image/png": "[encoded data removed]",
      "text/plain": [
       "<Figure size 600x400 with 1 Axes>"
      ]
     },
     "metadata": {},
     "output_type": "display_data"
    },
    {
     "data": {
      "image/png": "[encoded data removed]",
      "text/plain": [
       "<Figure size 1000x800 with 2 Axes>"
      ]
     },
     "metadata": {},
     "output_type": "display_data"
    }
   ],
   "source": [
    "import numpy as np\n",
    "import pandas as pd\n",
    "import matplotlib.pyplot as plt\n",
    "import seaborn as sns\n",
    "\n",
    "# 1️⃣ Histogram of target variable (price)\n",
    "plt.figure(figsize=(6, 4))\n",
    "plt.hist(train['price'], bins=50, color='skyblue', edgecolor='black')\n",
    "plt.title('Distribution of House Prices')\n",
    "plt.xlabel('Price')\n",
    "plt.ylabel('Frequency')\n",
    "plt.tight_layout()\n",
    "plt.show()\n",
    "\n",
    "# 2️⃣ Boxplot of the largest numeric feature (as a proxy for living area)\n",
    "numeric_cols = train.select_dtypes(include=[np.number]).columns.tolist()\n",
    "if 'price' in numeric_cols:\n",
    "    numeric_cols.remove('price')  # remove target variable\n",
    "\n",
    "# Find the numeric feature with the largest total sum\n",
    "largest_feature = train[numeric_cols].sum().sort_values(ascending=False).index[0]\n",
    "\n",
    "plt.figure(figsize=(6, 4))\n",
    "sns.boxplot(x=train[largest_feature], color='lightgreen')\n",
    "plt.title(f'Boxplot of {largest_feature}')\n",
    "plt.xlabel(largest_feature)\n",
    "plt.tight_layout()\n",
    "plt.show()\n",
    "\n",
    "# 3️⃣ Correlation heatmap (numeric features only)\n",
    "numeric_train = train.select_dtypes(include=[np.number])\n",
    "corr = numeric_train.corr().round(2)\n",
    "\n",
    "plt.figure(figsize=(10, 8))\n",
    "sns.heatmap(corr, annot=True, fmt=\".2f\", cmap='coolwarm')\n",
    "plt.title('Correlation Heatmap of Numeric Features')\n",
    "plt.tight_layout()\n",
    "plt.show()\n"
   ]
  },
  {
   "cell_type": "markdown",
   "id": "32ce65d7",
   "metadata": {
    "papermill": {
     "duration": 0.009418,
     "end_time": "2025-10-23T01:27:18.439434",
     "exception": false,
     "start_time": "2025-10-23T01:27:18.430016",
     "status": "completed"
    },
    "tags": []
   },
   "source": [
    "# ⚡ Step 9 — Train/Validation Split"
   ]
  },
  {
   "cell_type": "code",
   "execution_count": 11,
   "id": "383334b8",
   "metadata": {
    "execution": {
     "iopub.execute_input": "2025-10-23T01:27:18.459984Z",
     "iopub.status.busy": "2025-10-23T01:27:18.459399Z",
     "iopub.status.idle": "2025-10-23T01:27:18.635192Z",
     "shell.execute_reply": "2025-10-23T01:27:18.634189Z"
    },
    "papermill": {
     "duration": 0.188345,
     "end_time": "2025-10-23T01:27:18.636987",
     "exception": false,
     "start_time": "2025-10-23T01:27:18.448642",
     "status": "completed"
    },
    "tags": []
   },
   "outputs": [],
   "source": [
    "X_train, X_valid, y_train, y_valid = train_test_split(X_imputed, y_log, test_size=0.2, random_state=42)"
   ]
  },
  {
   "cell_type": "markdown",
   "id": "cfa0b1e0",
   "metadata": {
    "papermill": {
     "duration": 0.009712,
     "end_time": "2025-10-23T01:27:18.656122",
     "exception": false,
     "start_time": "2025-10-23T01:27:18.646410",
     "status": "completed"
    },
    "tags": []
   },
   "source": [
    "# 🤖 Step 10 — Ridge Regression"
   ]
  },
  {
   "cell_type": "markdown",
   "id": "a46ba3d7",
   "metadata": {
    "papermill": {
     "duration": 0.008633,
     "end_time": "2025-10-23T01:27:18.674079",
     "exception": false,
     "start_time": "2025-10-23T01:27:18.665446",
     "status": "completed"
    },
    "tags": []
   },
   "source": [
    "## Model Training\n",
    "\n",
    "We train multiple models including Ridge, LightGBM, and CatBoost. Training\n",
    "multiple models allows comparison and ensemble predictions."
   ]
  },
  {
   "cell_type": "code",
   "execution_count": 12,
   "id": "9249276e",
   "metadata": {
    "execution": {
     "iopub.execute_input": "2025-10-23T01:27:18.693878Z",
     "iopub.status.busy": "2025-10-23T01:27:18.693534Z",
     "iopub.status.idle": "2025-10-23T01:27:19.150771Z",
     "shell.execute_reply": "2025-10-23T01:27:19.149998Z"
    },
    "papermill": {
     "duration": 0.47464,
     "end_time": "2025-10-23T01:27:19.157974",
     "exception": false,
     "start_time": "2025-10-23T01:27:18.683334",
     "status": "completed"
    },
    "tags": []
   },
   "outputs": [
    {
     "name": "stdout",
     "output_type": "stream",
     "text": [
      "Ridge RMSE (log-target): 0.3307\n"
     ]
    }
   ],
   "source": [
    "ridge = Ridge(alpha=1.0, random_state=42)\n",
    "ridge.fit(X_train, y_train)\n",
    "ridge_preds_valid = ridge.predict(X_valid)\n",
    "ridge_rmse = np.sqrt(mean_squared_error(y_valid, ridge_preds_valid))\n",
    "print(f\"Ridge RMSE (log-target): {ridge_rmse:.4f}\")\n"
   ]
  },
  {
   "cell_type": "markdown",
   "id": "e1ba5812",
   "metadata": {
    "papermill": {
     "duration": 0.016237,
     "end_time": "2025-10-23T01:27:19.189185",
     "exception": false,
     "start_time": "2025-10-23T01:27:19.172948",
     "status": "completed"
    },
    "tags": []
   },
   "source": [
    "# 🤖 Step 11 — LightGBM"
   ]
  },
  {
   "cell_type": "code",
   "execution_count": 13,
   "id": "3bbe268c",
   "metadata": {
    "execution": {
     "iopub.execute_input": "2025-10-23T01:27:19.227024Z",
     "iopub.status.busy": "2025-10-23T01:27:19.226516Z",
     "iopub.status.idle": "2025-10-23T01:27:20.866287Z",
     "shell.execute_reply": "2025-10-23T01:27:20.865390Z"
    },
    "papermill": {
     "duration": 1.661126,
     "end_time": "2025-10-23T01:27:20.868251",
     "exception": false,
     "start_time": "2025-10-23T01:27:19.207125",
     "status": "completed"
    },
    "tags": []
   },
   "outputs": [
    {
     "name": "stdout",
     "output_type": "stream",
     "text": [
      "[LightGBM] [Info] Auto-choosing row-wise multi-threading, the overhead of testing was 0.007605 seconds.\n",
      "You can set `force_row_wise=true` to remove the overhead.\n",
      "And if memory is not enough, you can set `force_col_wise=true`.\n",
      "[LightGBM] [Info] Total Bins 657\n",
      "[LightGBM] [Info] Number of data points in the train set: 8000, number of used features: 130\n",
      "[LightGBM] [Info] Start training from score 4.416407\n",
      "Training until validation scores don't improve for 50 rounds\n",
      "[100]\ttraining's rmse: 0.310793\tvalid_1's rmse: 0.340547\n",
      "[200]\ttraining's rmse: 0.295683\tvalid_1's rmse: 0.337344\n",
      "[300]\ttraining's rmse: 0.286017\tvalid_1's rmse: 0.336516\n",
      "Early stopping, best iteration is:\n",
      "[278]\ttraining's rmse: 0.287766\tvalid_1's rmse: 0.336347\n",
      "LightGBM RMSE (log-target): 0.3363\n"
     ]
    }
   ],
   "source": [
    "lgb_train = lgb.Dataset(X_train, label=y_train)\n",
    "lgb_valid = lgb.Dataset(X_valid, label=y_valid, reference=lgb_train)\n",
    "\n",
    "lgb_params = {\n",
    "    'objective': 'regression',\n",
    "    'metric': 'rmse',\n",
    "    'learning_rate': 0.05,\n",
    "    'num_leaves': 31,\n",
    "    'feature_fraction': 0.9,\n",
    "    'bagging_fraction': 0.8,\n",
    "    'bagging_freq': 5,\n",
    "    'seed': 42\n",
    "}\n",
    "\n",
    "lgb_model = lgb.train(\n",
    "    lgb_params,\n",
    "    lgb_train,\n",
    "    valid_sets=[lgb_train, lgb_valid],\n",
    "    num_boost_round=1000,\n",
    "    callbacks=[lgb.early_stopping(stopping_rounds=50), lgb.log_evaluation(period=100)]\n",
    ")\n",
    "\n",
    "lgb_preds_valid = lgb_model.predict(X_valid)\n",
    "print(f\"LightGBM RMSE (log-target): {np.sqrt(mean_squared_error(y_valid, lgb_preds_valid)):.4f}\")\n"
   ]
  },
  {
   "cell_type": "markdown",
   "id": "344e13fd",
   "metadata": {
    "papermill": {
     "duration": 0.009056,
     "end_time": "2025-10-23T01:27:20.887869",
     "exception": false,
     "start_time": "2025-10-23T01:27:20.878813",
     "status": "completed"
    },
    "tags": []
   },
   "source": [
    "# 🤖 Step 12 — CatBoost"
   ]
  },
  {
   "cell_type": "code",
   "execution_count": 14,
   "id": "0240f875",
   "metadata": {
    "execution": {
     "iopub.execute_input": "2025-10-23T01:27:20.909909Z",
     "iopub.status.busy": "2025-10-23T01:27:20.908626Z",
     "iopub.status.idle": "2025-10-23T01:27:35.534698Z",
     "shell.execute_reply": "2025-10-23T01:27:35.533376Z"
    },
    "papermill": {
     "duration": 14.638211,
     "end_time": "2025-10-23T01:27:35.536544",
     "exception": false,
     "start_time": "2025-10-23T01:27:20.898333",
     "status": "completed"
    },
    "tags": []
   },
   "outputs": [
    {
     "name": "stdout",
     "output_type": "stream",
     "text": [
      "0:\tlearn: 0.6898042\ttest: 0.6941106\tbest: 0.6941106 (0)\ttotal: 61.7ms\tremaining: 1m 1s\n",
      "100:\tlearn: 0.3441920\ttest: 0.3558133\tbest: 0.3558133 (100)\ttotal: 760ms\tremaining: 6.77s\n",
      "200:\tlearn: 0.3274415\ttest: 0.3455167\tbest: 0.3455159 (198)\ttotal: 1.46s\tremaining: 5.8s\n",
      "300:\tlearn: 0.3156914\ttest: 0.3382367\tbest: 0.3382367 (300)\ttotal: 2.15s\tremaining: 5s\n",
      "400:\tlearn: 0.3062795\ttest: 0.3325151\tbest: 0.3325151 (400)\ttotal: 2.9s\tremaining: 4.34s\n",
      "500:\tlearn: 0.2993433\ttest: 0.3287039\tbest: 0.3287039 (500)\ttotal: 3.62s\tremaining: 3.6s\n",
      "600:\tlearn: 0.2930277\ttest: 0.3260061\tbest: 0.3260061 (600)\ttotal: 4.29s\tremaining: 2.85s\n",
      "700:\tlearn: 0.2869483\ttest: 0.3231522\tbest: 0.3231522 (700)\ttotal: 4.98s\tremaining: 2.12s\n",
      "800:\tlearn: 0.2826936\ttest: 0.3213462\tbest: 0.3213462 (799)\ttotal: 5.64s\tremaining: 1.4s\n",
      "900:\tlearn: 0.2780281\ttest: 0.3192636\tbest: 0.3192636 (900)\ttotal: 6.3s\tremaining: 692ms\n",
      "999:\tlearn: 0.2736783\ttest: 0.3173679\tbest: 0.3173679 (999)\ttotal: 7.03s\tremaining: 0us\n",
      "\n",
      "bestTest = 0.3173679043\n",
      "bestIteration = 999\n",
      "\n",
      "CatBoost RMSE (log-target): 0.3174\n"
     ]
    }
   ],
   "source": [
    "cat_model = CatBoostRegressor(iterations=1000, learning_rate=0.05, depth=6, eval_metric='RMSE',\n",
    "                              random_seed=42, verbose=100)\n",
    "cat_model.fit(X_train, y_train, eval_set=(X_valid, y_valid))\n",
    "cat_preds_valid = cat_model.predict(X_valid)\n",
    "print(f\"CatBoost RMSE (log-target): {np.sqrt(mean_squared_error(y_valid, cat_preds_valid)):.4f}\")\n"
   ]
  },
  {
   "cell_type": "markdown",
   "id": "17563b22",
   "metadata": {
    "papermill": {
     "duration": 0.01018,
     "end_time": "2025-10-23T01:27:35.558241",
     "exception": false,
     "start_time": "2025-10-23T01:27:35.548061",
     "status": "completed"
    },
    "tags": []
   },
   "source": [
    "# 🧠 Step 13 — Weighted Ensemble"
   ]
  },
  {
   "cell_type": "markdown",
   "id": "a50dd5c8",
   "metadata": {
    "papermill": {
     "duration": 0.010445,
     "end_time": "2025-10-23T01:27:35.580436",
     "exception": false,
     "start_time": "2025-10-23T01:27:35.569991",
     "status": "completed"
    },
    "tags": []
   },
   "source": [
    "## Ensemble Predictions\n",
    "We combine predictions from Ridge, LightGBM, and CatBoost using weighted\n",
    "average for improved performance."
   ]
  },
  {
   "cell_type": "code",
   "execution_count": 15,
   "id": "bbc67f81",
   "metadata": {
    "execution": {
     "iopub.execute_input": "2025-10-23T01:27:35.602445Z",
     "iopub.status.busy": "2025-10-23T01:27:35.602120Z",
     "iopub.status.idle": "2025-10-23T01:27:35.610534Z",
     "shell.execute_reply": "2025-10-23T01:27:35.608598Z"
    },
    "papermill": {
     "duration": 0.021339,
     "end_time": "2025-10-23T01:27:35.612340",
     "exception": false,
     "start_time": "2025-10-23T01:27:35.591001",
     "status": "completed"
    },
    "tags": []
   },
   "outputs": [
    {
     "name": "stdout",
     "output_type": "stream",
     "text": [
      "Ensemble RMSE (log-target): 0.3105\n"
     ]
    }
   ],
   "source": [
    "\n",
    "ensemble_valid = 0.2*ridge_preds_valid + 0.4*lgb_preds_valid + 0.4*cat_preds_valid\n",
    "ensemble_rmse = np.sqrt(mean_squared_error(y_valid, ensemble_valid))\n",
    "print(f\"Ensemble RMSE (log-target): {ensemble_rmse:.4f}\")\n"
   ]
  },
  {
   "cell_type": "markdown",
   "id": "0b3dc763",
   "metadata": {
    "papermill": {
     "duration": 0.009813,
     "end_time": "2025-10-23T01:27:35.632928",
     "exception": false,
     "start_time": "2025-10-23T01:27:35.623115",
     "status": "completed"
    },
    "tags": []
   },
   "source": [
    "# 📤 Step 14 — Train Full Data & Predict Test"
   ]
  },
  {
   "cell_type": "code",
   "execution_count": 16,
   "id": "594cfff7",
   "metadata": {
    "execution": {
     "iopub.execute_input": "2025-10-23T01:27:35.655027Z",
     "iopub.status.busy": "2025-10-23T01:27:35.654647Z",
     "iopub.status.idle": "2025-10-23T01:27:45.697287Z",
     "shell.execute_reply": "2025-10-23T01:27:45.696106Z"
    },
    "papermill": {
     "duration": 10.055923,
     "end_time": "2025-10-23T01:27:45.699060",
     "exception": false,
     "start_time": "2025-10-23T01:27:35.643137",
     "status": "completed"
    },
    "tags": []
   },
   "outputs": [
    {
     "name": "stdout",
     "output_type": "stream",
     "text": [
      "[LightGBM] [Info] Auto-choosing row-wise multi-threading, the overhead of testing was 0.005778 seconds.\n",
      "You can set `force_row_wise=true` to remove the overhead.\n",
      "And if memory is not enough, you can set `force_col_wise=true`.\n",
      "[LightGBM] [Info] Total Bins 732\n",
      "[LightGBM] [Info] Number of data points in the train set: 10000, number of used features: 155\n",
      "[LightGBM] [Info] Start training from score 4.414894\n",
      "0:\tlearn: 0.6909059\ttotal: 9.02ms\tremaining: 9.01s\n",
      "100:\tlearn: 0.3448800\ttotal: 715ms\tremaining: 6.36s\n",
      "200:\tlearn: 0.3292367\ttotal: 1.42s\tremaining: 5.64s\n",
      "300:\tlearn: 0.3185015\ttotal: 2.14s\tremaining: 4.96s\n",
      "400:\tlearn: 0.3101388\ttotal: 2.84s\tremaining: 4.24s\n",
      "500:\tlearn: 0.3024449\ttotal: 3.54s\tremaining: 3.53s\n",
      "600:\tlearn: 0.2965605\ttotal: 4.24s\tremaining: 2.82s\n",
      "700:\tlearn: 0.2911528\ttotal: 4.92s\tremaining: 2.1s\n",
      "800:\tlearn: 0.2861496\ttotal: 5.62s\tremaining: 1.4s\n",
      "900:\tlearn: 0.2822814\ttotal: 6.32s\tremaining: 695ms\n",
      "999:\tlearn: 0.2785621\ttotal: 7s\tremaining: 0us\n"
     ]
    }
   ],
   "source": [
    "ridge.fit(X_imputed, y_log)\n",
    "lgb_model = lgb.train(lgb_params, lgb.Dataset(X_imputed, label=y_log), num_boost_round=lgb_model.best_iteration)\n",
    "cat_model.fit(X_imputed, y_log)\n",
    "\n",
    "ridge_preds_test = ridge.predict(test_imputed)\n",
    "lgb_preds_test = lgb_model.predict(test_imputed)\n",
    "cat_preds_test = cat_model.predict(test_imputed)\n",
    "\n",
    "# Weighted ensemble\n",
    "ensemble_preds_test = 0.2*ridge_preds_test + 0.4*lgb_preds_test + 0.4*cat_preds_test\n",
    "\n",
    "# Inverse log-transform\n",
    "final_preds = np.expm1(ensemble_preds_test)\n"
   ]
  },
  {
   "cell_type": "markdown",
   "id": "0e5de0fc",
   "metadata": {
    "papermill": {
     "duration": 0.010825,
     "end_time": "2025-10-23T01:27:45.720849",
     "exception": false,
     "start_time": "2025-10-23T01:27:45.710024",
     "status": "completed"
    },
    "tags": []
   },
   "source": [
    "# 📤 Step 15 — Submission"
   ]
  },
  {
   "cell_type": "code",
   "execution_count": 17,
   "id": "c1a6c728",
   "metadata": {
    "execution": {
     "iopub.execute_input": "2025-10-23T01:27:45.747394Z",
     "iopub.status.busy": "2025-10-23T01:27:45.747051Z",
     "iopub.status.idle": "2025-10-23T01:27:45.775382Z",
     "shell.execute_reply": "2025-10-23T01:27:45.774037Z"
    },
    "papermill": {
     "duration": 0.044292,
     "end_time": "2025-10-23T01:27:45.777950",
     "exception": false,
     "start_time": "2025-10-23T01:27:45.733658",
     "status": "completed"
    },
    "tags": []
   },
   "outputs": [
    {
     "name": "stdout",
     "output_type": "stream",
     "text": [
      "✅ submission.csv saved successfully!\n"
     ]
    },
    {
     "data": {
      "text/html": [
       "<div>\n",
       "<style scoped>\n",
       "    .dataframe tbody tr th:only-of-type {\n",
       "        vertical-align: middle;\n",
       "    }\n",
       "\n",
       "    .dataframe tbody tr th {\n",
       "        vertical-align: top;\n",
       "    }\n",
       "\n",
       "    .dataframe thead th {\n",
       "        text-align: right;\n",
       "    }\n",
       "</style>\n",
       "<table border=\"1\" class=\"dataframe\">\n",
       "  <thead>\n",
       "    <tr style=\"text-align: right;\">\n",
       "      <th></th>\n",
       "      <th>id</th>\n",
       "      <th>price</th>\n",
       "    </tr>\n",
       "  </thead>\n",
       "  <tbody>\n",
       "    <tr>\n",
       "      <th>0</th>\n",
       "      <td>0</td>\n",
       "      <td>65.163472</td>\n",
       "    </tr>\n",
       "    <tr>\n",
       "      <th>1</th>\n",
       "      <td>1</td>\n",
       "      <td>103.849197</td>\n",
       "    </tr>\n",
       "    <tr>\n",
       "      <th>2</th>\n",
       "      <td>2</td>\n",
       "      <td>58.538174</td>\n",
       "    </tr>\n",
       "    <tr>\n",
       "      <th>3</th>\n",
       "      <td>3</td>\n",
       "      <td>151.197364</td>\n",
       "    </tr>\n",
       "    <tr>\n",
       "      <th>4</th>\n",
       "      <td>4</td>\n",
       "      <td>185.848993</td>\n",
       "    </tr>\n",
       "  </tbody>\n",
       "</table>\n",
       "</div>"
      ],
      "text/plain": [
       "   id       price\n",
       "0   0   65.163472\n",
       "1   1  103.849197\n",
       "2   2   58.538174\n",
       "3   3  151.197364\n",
       "4   4  185.848993"
      ]
     },
     "execution_count": 17,
     "metadata": {},
     "output_type": "execute_result"
    }
   ],
   "source": [
    "submission = pd.DataFrame({\n",
    "    'id': sample['id'] if 'id' in sample.columns else np.arange(len(final_preds)),\n",
    "    'price': final_preds\n",
    "})\n",
    "submission.to_csv(\"submission.csv\", index=False)\n",
    "print(\"✅ submission.csv saved successfully!\")\n",
    "submission.head()\n"
   ]
  }
 ],
 "metadata": {
  "kaggle": {
   "accelerator": "none",
   "dataSources": [
    {
     "databundleVersionId": 14071837,
     "sourceId": 117453,
     "sourceType": "competition"
    }
   ],
   "dockerImageVersionId": 31153,
   "isGpuEnabled": false,
   "isInternetEnabled": true,
   "language": "python",
   "sourceType": "notebook"
  },
  "kernelspec": {
   "display_name": "Python 3",
   "language": "python",
   "name": "python3"
  },
  "language_info": {
   "codemirror_mode": {
    "name": "ipython",
    "version": 3
   },
   "file_extension": ".py",
   "mimetype": "text/x-python",
   "name": "python",
   "nbconvert_exporter": "python",
   "pygments_lexer": "ipython3",
   "version": "3.11.13"
  },
  "papermill": {
   "default_parameters": {},
   "duration": 51.550099,
   "end_time": "2025-10-23T01:27:46.815352",
   "environment_variables": {},
   "exception": null,
   "input_path": "__notebook__.ipynb",
   "output_path": "__notebook__.ipynb",
   "parameters": {},
   "start_time": "2025-10-23T01:26:55.265253",
   "version": "2.6.0"
  }
 },
 "nbformat": 4,
 "nbformat_minor": 5
}
